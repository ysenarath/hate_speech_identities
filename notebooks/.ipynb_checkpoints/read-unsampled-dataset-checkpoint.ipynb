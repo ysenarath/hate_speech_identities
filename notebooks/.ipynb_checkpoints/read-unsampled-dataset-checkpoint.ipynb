{
 "cells": [
  {
   "cell_type": "code",
   "execution_count": null,
   "id": "22591cae-2742-49f3-bc2d-633fc714dbb7",
   "metadata": {},
   "outputs": [],
   "source": [
    "import pandas as pd\n",
    "import seaborn as sns\n",
    "\n",
    "df = pd.read_json(\"../data/unsampled_identity_hate_corpus.jsonl\", lines=True)"
   ]
  },
  {
   "cell_type": "code",
   "execution_count": null,
   "id": "858461ca-3891-422f-b7b2-7a8d99f77fc5",
   "metadata": {},
   "outputs": [],
   "source": [
    "df.loc[1217].to_dict()"
   ]
  },
  {
   "cell_type": "code",
   "execution_count": null,
   "id": "84c8e745-57ab-4564-badd-61a90139b219",
   "metadata": {},
   "outputs": [],
   "source": [
    "df.loc[1394].to_dict()"
   ]
  },
  {
   "cell_type": "code",
   "execution_count": null,
   "id": "3c381fc1-2dc8-4d0f-be9e-ff84a41c49ce",
   "metadata": {},
   "outputs": [],
   "source": [
    "df[(df[\"target_groups\"].apply(len) > 0) & df[\"target_groups\"].apply(len) > 0) & (df[\"identity_groups\"].apply(\";\".join).str.contains(\"lgbtq+\"))].head(50)"
   ]
  },
  {
   "cell_type": "code",
   "execution_count": null,
   "id": "45491632-e85d-476f-947d-fe37e9d83922",
   "metadata": {},
   "outputs": [],
   "source": [
    "df[\"target_categories\"].explode().dropna().unique()"
   ]
  },
  {
   "cell_type": "code",
   "execution_count": null,
   "id": "cad64cf9-337e-4aba-a6fb-66fcafb650ee",
   "metadata": {},
   "outputs": [],
   "source": [
    "df[df[\"target_categories\"].apply(len) > 0].value_counts(\"hate\")"
   ]
  },
  {
   "cell_type": "code",
   "execution_count": null,
   "id": "c50681cd-d55f-4097-8b7b-466e632810ae",
   "metadata": {},
   "outputs": [],
   "source": [
    "df[\"target_categories_count\"] = df[\"target_categories\"].apply(len)"
   ]
  },
  {
   "cell_type": "code",
   "execution_count": null,
   "id": "b17a2f1c-2810-4ca8-ac51-67af499de9e8",
   "metadata": {},
   "outputs": [],
   "source": [
    "sns.displot(df, x=\"target_categories_count\")"
   ]
  },
  {
   "cell_type": "code",
   "execution_count": null,
   "id": "68bd7451-0465-492f-a892-4c78ab893f60",
   "metadata": {},
   "outputs": [],
   "source": [
    "print(\"\\n\".join(df[\"identity_groups\"].explode().dropna().unique()))"
   ]
  },
  {
   "cell_type": "code",
   "execution_count": null,
   "id": "4758c489-472a-47a2-8de9-09786662f8ae",
   "metadata": {},
   "outputs": [],
   "source": [
    "from txtai import Embeddings\n",
    "\n",
    "# Load dataset\n",
    "wikipedia = Embeddings()\n",
    "wikipedia.load(provider=\"huggingface-hub\", container=\"neuml/txtai-wikipedia\")\n"
   ]
  },
  {
   "cell_type": "code",
   "execution_count": null,
   "id": "f655fee8-232a-4eb2-8478-69d61d74830c",
   "metadata": {},
   "outputs": [],
   "source": [
    "for page in df[\"identity_groups\"].explode().dropna().unique():\n",
    "    query = f\"\"\"\n",
    "    SELECT id, text FROM txtai WHERE similar('{page}') and percentile >= 0.5\n",
    "    \"\"\"\n",
    "    \n",
    "    results = wikipedia.search(query, 5)\n",
    "    print(f\"----{page}----\")\n",
    "    for x in results:\n",
    "        print(x)\n",
    "    print(\"=====\")"
   ]
  },
  {
   "cell_type": "code",
   "execution_count": null,
   "id": "31379f51-b0e4-45e4-921f-d01e574a3b86",
   "metadata": {},
   "outputs": [],
   "source": [
    "df"
   ]
  },
  {
   "cell_type": "code",
   "execution_count": null,
   "id": "4ba5d7c2-ce35-4130-a290-1c56bc16d2c7",
   "metadata": {},
   "outputs": [],
   "source": [
    "import json\n",
    "\n",
    "with open(\"../resources/identity_categories.json\", \"r\", encoding=\"utf-8\") as fp:\n",
    "    identity_categories = json.load(fp)"
   ]
  },
  {
   "cell_type": "code",
   "execution_count": null,
   "id": "e7393e10-7fee-43ab-9cf0-4333e0e6787c",
   "metadata": {},
   "outputs": [],
   "source": [
    "identity_categories_df = pd.DataFrame([(key, value) for key, values in identity_categories.items() for value in values], columns=[\"identity\", \"category\"])"
   ]
  },
  {
   "cell_type": "code",
   "execution_count": null,
   "id": "83915980-5524-4b9b-a17c-518beda362fb",
   "metadata": {},
   "outputs": [],
   "source": [
    "identity_categories_df.groupby(\"category\").agg(list)"
   ]
  },
  {
   "cell_type": "code",
   "execution_count": null,
   "id": "c1fb0ff4-83ac-4688-b5ca-efbda5e3066e",
   "metadata": {},
   "outputs": [],
   "source": [
    "# identity_categories_df.head(50)"
   ]
  },
  {
   "cell_type": "code",
   "execution_count": null,
   "id": "d35e35e6-94d9-4072-afcd-032840d8b801",
   "metadata": {},
   "outputs": [],
   "source": [
    "df[df[\"target_categories_count\"] > 0][\"text\"].iloc[10]"
   ]
  },
  {
   "cell_type": "code",
   "execution_count": null,
   "id": "e4c11ccb-0a93-46f7-9fa1-31f8e1798c8e",
   "metadata": {},
   "outputs": [],
   "source": [
    "df"
   ]
  }
 ],
 "metadata": {
  "kernelspec": {
   "display_name": "Python 3 (ipykernel)",
   "language": "python",
   "name": "python3"
  },
  "language_info": {
   "codemirror_mode": {
    "name": "ipython",
    "version": 3
   },
   "file_extension": ".py",
   "mimetype": "text/x-python",
   "name": "python",
   "nbconvert_exporter": "python",
   "pygments_lexer": "ipython3",
   "version": "3.11.5"
  }
 },
 "nbformat": 4,
 "nbformat_minor": 5
}
